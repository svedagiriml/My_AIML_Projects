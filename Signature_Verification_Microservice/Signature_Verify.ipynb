{
 "cells": [
  {
   "cell_type": "code",
   "execution_count": 1,
   "id": "9878c2d2",
   "metadata": {},
   "outputs": [],
   "source": [
    "import sys\n",
    "import numpy as np\n",
    "import pickle\n",
    "import os\n",
    "import matplotlib.pyplot as plt\n",
    "%matplotlib inline"
   ]
  },
  {
   "cell_type": "code",
   "execution_count": 7,
   "id": "be1cb519",
   "metadata": {},
   "outputs": [
    {
     "name": "stdout",
     "output_type": "stream",
     "text": [
      "C:\\Users\\sveda\\Documents\\Github\\WorkingDirectory\\My_AIML_Projects\\Signature_Verification_Microservice\n"
     ]
    }
   ],
   "source": [
    "path = \"./signatures\"\n",
    "print(os.getcwd())"
   ]
  },
  {
   "cell_type": "markdown",
   "id": "05a28463",
   "metadata": {},
   "source": [
    "#Data Preprocessing"
   ]
  },
  {
   "cell_type": "code",
   "execution_count": 11,
   "id": "94cde2fa",
   "metadata": {},
   "outputs": [],
   "source": [
    "# Creating lists of Genuine and fake signatures\n",
    "# Genuine signatures are stored in the list \"orig_groups\"\n",
    "# Forged signatures are stored in the list \"forged_groups\"\n",
    "# Each person has 24 forged and 24 original examples\n",
    "from natsort import natsorted, ns\n",
    "orig_groups, forg_groups = [], []\n",
    "images = os.listdir(path+\"/full_forg\")\n",
    "images=natsorted(images, alg=ns.IGNORECASE)\n",
    "images = [path+\"/full_forg\"+'/'+x for x in images]\n",
    "for i in range(0,len(images)-1,24):\n",
    "  forg_groups.append(images[i:i+24]) \n",
    "images = os.listdir(path+\"/full_org\")\n",
    "images=natsorted(images, alg=ns.IGNORECASE)\n",
    "images = [path+\"/full_org\"+'/'+x for x in images]\n",
    "for i in range(0,len(images)-1,24):\n",
    "  orig_groups.append(images[i:i+24])"
   ]
  },
  {
   "cell_type": "code",
   "execution_count": 12,
   "id": "bb10f337",
   "metadata": {},
   "outputs": [
    {
     "data": {
      "text/plain": [
       "(55, 55)"
      ]
     },
     "execution_count": 12,
     "metadata": {},
     "output_type": "execute_result"
    }
   ],
   "source": [
    "# Quick check to confirm we have data of all the 55 individuals\n",
    "len(orig_groups), len(forg_groups)"
   ]
  },
  {
   "cell_type": "code",
   "execution_count": null,
   "id": "b0e09dc9",
   "metadata": {},
   "outputs": [],
   "source": []
  }
 ],
 "metadata": {
  "kernelspec": {
   "display_name": "Python 3 (ipykernel)",
   "language": "python",
   "name": "python3"
  },
  "language_info": {
   "codemirror_mode": {
    "name": "ipython",
    "version": 3
   },
   "file_extension": ".py",
   "mimetype": "text/x-python",
   "name": "python",
   "nbconvert_exporter": "python",
   "pygments_lexer": "ipython3",
   "version": "3.9.12"
  }
 },
 "nbformat": 4,
 "nbformat_minor": 5
}
