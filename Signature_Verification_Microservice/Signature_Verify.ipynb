{
 "cells": [
  {
   "cell_type": "code",
   "execution_count": 34,
   "id": "02ffcbce",
   "metadata": {},
   "outputs": [],
   "source": [
    "import sys\n",
    "import numpy as np\n",
    "import pickle\n",
    "import os\n",
    "import matplotlib.pyplot as plt\n",
    "%matplotlib inline\n",
    "\n",
    "import cv2\n",
    "import time\n",
    "import itertools\n",
    "import random\n",
    "\n",
    "from sklearn.utils import shuffle\n",
    "\n",
    "import tensorflow as tf\n",
    "from keras.models import Sequential\n",
    "from keras.optimizers import Adam, RMSprop\n",
    "from keras.layers import Conv2D, ZeroPadding2D, Activation, Input, concatenate, Dropout\n",
    "from keras.models import Model\n",
    "from tensorflow.keras.layers import BatchNormalization\n",
    "#from keras.layers.normalization import BatchNormalization\n",
    "from keras.layers.pooling import MaxPooling2D\n",
    "#from keras.layers.merge import Concatenate\n",
    "from tensorflow.keras.layers import concatenate\n",
    "from keras.layers.core import Lambda, Flatten, Dense\n",
    "from keras.initializers import glorot_uniform\n",
    "\n",
    "#from keras.utils import Layer\n",
    "from keras.regularizers import l2\n",
    "from keras import backend as K\n",
    "from keras.callbacks import EarlyStopping, ModelCheckpoint, ReduceLROnPlateau"
   ]
  },
  {
   "cell_type": "code",
   "execution_count": 3,
   "id": "61c96cce",
   "metadata": {},
   "outputs": [
    {
     "name": "stdout",
     "output_type": "stream",
     "text": [
      "C:\\Users\\sveda\\Documents\\Github\\WorkingDirectory\\My_AIML_Projects\\Signature_Verification_Microservice\n"
     ]
    }
   ],
   "source": [
    "path = \"./signatures\"\n",
    "print(os.getcwd())"
   ]
  },
  {
   "cell_type": "markdown",
   "id": "ea67e619",
   "metadata": {},
   "source": [
    "### Data Preprocessing\n",
    "\n",
    "Note: All the png images are already Salt and Pepper denoised and Normalized"
   ]
  },
  {
   "cell_type": "code",
   "execution_count": 4,
   "id": "19135e6e",
   "metadata": {},
   "outputs": [],
   "source": [
    "# Creating lists of Genuine and fake signatures\n",
    "# Genuine signatures are stored in the list \"orig_groups\"\n",
    "# Forged signatures are stored in the list \"forged_groups\"\n",
    "# Each person has 24 forged and 24 original examples\n",
    "from natsort import natsorted, ns\n",
    "orig_groups, forg_groups = [], []\n",
    "images = os.listdir(path+\"/full_forg\")\n",
    "images=natsorted(images, alg=ns.IGNORECASE)\n",
    "images = [path+\"/full_forg\"+'/'+x for x in images]\n",
    "for i in range(0,len(images)-1,24):\n",
    "  forg_groups.append(images[i:i+24]) \n",
    "images = os.listdir(path+\"/full_org\")\n",
    "images=natsorted(images, alg=ns.IGNORECASE)\n",
    "images = [path+\"/full_org\"+'/'+x for x in images]\n",
    "for i in range(0,len(images)-1,24):\n",
    "  orig_groups.append(images[i:i+24])"
   ]
  },
  {
   "cell_type": "code",
   "execution_count": 5,
   "id": "b0117110",
   "metadata": {},
   "outputs": [
    {
     "data": {
      "text/plain": [
       "(55, 55)"
      ]
     },
     "execution_count": 5,
     "metadata": {},
     "output_type": "execute_result"
    }
   ],
   "source": [
    "# Quick check to confirm we have data of all the 55 individuals\n",
    "len(orig_groups), len(forg_groups)"
   ]
  },
  {
   "cell_type": "code",
   "execution_count": 6,
   "id": "21408e41",
   "metadata": {},
   "outputs": [
    {
     "name": "stdout",
     "output_type": "stream",
     "text": [
      "[['./signatures/full_org/original_1_1.png', './signatures/full_org/original_1_2.png', './signatures/full_org/original_1_3.png', './signatures/full_org/original_1_4.png', './signatures/full_org/original_1_5.png', './signatures/full_org/original_1_6.png', './signatures/full_org/original_1_7.png', './signatures/full_org/original_1_8.png', './signatures/full_org/original_1_9.png', './signatures/full_org/original_1_10.png', './signatures/full_org/original_1_11.png', './signatures/full_org/original_1_12.png', './signatures/full_org/original_1_13.png', './signatures/full_org/original_1_14.png', './signatures/full_org/original_1_15.png', './signatures/full_org/original_1_16.png', './signatures/full_org/original_1_17.png', './signatures/full_org/original_1_18.png', './signatures/full_org/original_1_19.png', './signatures/full_org/original_1_20.png', './signatures/full_org/original_1_21.png', './signatures/full_org/original_1_22.png', './signatures/full_org/original_1_23.png', './signatures/full_org/original_1_24.png'], ['./signatures/full_org/original_2_1.png', './signatures/full_org/original_2_2.png', './signatures/full_org/original_2_3.png', './signatures/full_org/original_2_4.png', './signatures/full_org/original_2_5.png', './signatures/full_org/original_2_6.png', './signatures/full_org/original_2_7.png', './signatures/full_org/original_2_8.png', './signatures/full_org/original_2_9.png', './signatures/full_org/original_2_10.png', './signatures/full_org/original_2_11.png', './signatures/full_org/original_2_12.png', './signatures/full_org/original_2_13.png', './signatures/full_org/original_2_14.png', './signatures/full_org/original_2_15.png', './signatures/full_org/original_2_16.png', './signatures/full_org/original_2_17.png', './signatures/full_org/original_2_18.png', './signatures/full_org/original_2_19.png', './signatures/full_org/original_2_20.png', './signatures/full_org/original_2_21.png', './signatures/full_org/original_2_22.png', './signatures/full_org/original_2_23.png', './signatures/full_org/original_2_24.png'], ['./signatures/full_org/original_3_1.png', './signatures/full_org/original_3_2.png', './signatures/full_org/original_3_3.png', './signatures/full_org/original_3_4.png', './signatures/full_org/original_3_5.png', './signatures/full_org/original_3_6.png', './signatures/full_org/original_3_7.png', './signatures/full_org/original_3_8.png', './signatures/full_org/original_3_9.png', './signatures/full_org/original_3_10.png', './signatures/full_org/original_3_11.png', './signatures/full_org/original_3_12.png', './signatures/full_org/original_3_13.png', './signatures/full_org/original_3_14.png', './signatures/full_org/original_3_15.png', './signatures/full_org/original_3_16.png', './signatures/full_org/original_3_17.png', './signatures/full_org/original_3_18.png', './signatures/full_org/original_3_19.png', './signatures/full_org/original_3_20.png', './signatures/full_org/original_3_21.png', './signatures/full_org/original_3_22.png', './signatures/full_org/original_3_23.png', './signatures/full_org/original_3_24.png'], ['./signatures/full_org/original_4_1.png', './signatures/full_org/original_4_2.png', './signatures/full_org/original_4_3.png', './signatures/full_org/original_4_4.png', './signatures/full_org/original_4_5.png', './signatures/full_org/original_4_6.png', './signatures/full_org/original_4_7.png', './signatures/full_org/original_4_8.png', './signatures/full_org/original_4_9.png', './signatures/full_org/original_4_10.png', './signatures/full_org/original_4_11.png', './signatures/full_org/original_4_12.png', './signatures/full_org/original_4_13.png', './signatures/full_org/original_4_14.png', './signatures/full_org/original_4_15.png', './signatures/full_org/original_4_16.png', './signatures/full_org/original_4_17.png', './signatures/full_org/original_4_18.png', './signatures/full_org/original_4_19.png', './signatures/full_org/original_4_20.png', './signatures/full_org/original_4_21.png', './signatures/full_org/original_4_22.png', './signatures/full_org/original_4_23.png', './signatures/full_org/original_4_24.png'], ['./signatures/full_org/original_5_1.png', './signatures/full_org/original_5_2.png', './signatures/full_org/original_5_3.png', './signatures/full_org/original_5_4.png', './signatures/full_org/original_5_5.png', './signatures/full_org/original_5_6.png', './signatures/full_org/original_5_7.png', './signatures/full_org/original_5_8.png', './signatures/full_org/original_5_9.png', './signatures/full_org/original_5_10.png', './signatures/full_org/original_5_11.png', './signatures/full_org/original_5_12.png', './signatures/full_org/original_5_13.png', './signatures/full_org/original_5_14.png', './signatures/full_org/original_5_15.png', './signatures/full_org/original_5_16.png', './signatures/full_org/original_5_17.png', './signatures/full_org/original_5_18.png', './signatures/full_org/original_5_19.png', './signatures/full_org/original_5_20.png', './signatures/full_org/original_5_21.png', './signatures/full_org/original_5_22.png', './signatures/full_org/original_5_23.png', './signatures/full_org/original_5_24.png'], ['./signatures/full_org/original_6_1.png', './signatures/full_org/original_6_2.png', './signatures/full_org/original_6_3.png', './signatures/full_org/original_6_4.png', './signatures/full_org/original_6_5.png', './signatures/full_org/original_6_6.png', './signatures/full_org/original_6_7.png', './signatures/full_org/original_6_8.png', './signatures/full_org/original_6_9.png', './signatures/full_org/original_6_10.png', './signatures/full_org/original_6_11.png', './signatures/full_org/original_6_12.png', './signatures/full_org/original_6_13.png', './signatures/full_org/original_6_14.png', './signatures/full_org/original_6_15.png', './signatures/full_org/original_6_16.png', './signatures/full_org/original_6_17.png', './signatures/full_org/original_6_18.png', './signatures/full_org/original_6_19.png', './signatures/full_org/original_6_20.png', './signatures/full_org/original_6_21.png', './signatures/full_org/original_6_22.png', './signatures/full_org/original_6_23.png', './signatures/full_org/original_6_24.png'], ['./signatures/full_org/original_7_1.png', './signatures/full_org/original_7_2.png', './signatures/full_org/original_7_3.png', './signatures/full_org/original_7_4.png', './signatures/full_org/original_7_5.png', './signatures/full_org/original_7_6.png', './signatures/full_org/original_7_7.png', './signatures/full_org/original_7_8.png', './signatures/full_org/original_7_9.png', './signatures/full_org/original_7_10.png', './signatures/full_org/original_7_11.png', './signatures/full_org/original_7_12.png', './signatures/full_org/original_7_13.png', './signatures/full_org/original_7_14.png', './signatures/full_org/original_7_15.png', './signatures/full_org/original_7_16.png', './signatures/full_org/original_7_17.png', './signatures/full_org/original_7_18.png', './signatures/full_org/original_7_19.png', './signatures/full_org/original_7_20.png', './signatures/full_org/original_7_21.png', './signatures/full_org/original_7_22.png', './signatures/full_org/original_7_23.png', './signatures/full_org/original_7_24.png'], ['./signatures/full_org/original_8_1.png', './signatures/full_org/original_8_2.png', './signatures/full_org/original_8_3.png', './signatures/full_org/original_8_4.png', './signatures/full_org/original_8_5.png', './signatures/full_org/original_8_6.png', './signatures/full_org/original_8_7.png', './signatures/full_org/original_8_8.png', './signatures/full_org/original_8_9.png', './signatures/full_org/original_8_10.png', './signatures/full_org/original_8_11.png', './signatures/full_org/original_8_12.png', './signatures/full_org/original_8_13.png', './signatures/full_org/original_8_14.png', './signatures/full_org/original_8_15.png', './signatures/full_org/original_8_16.png', './signatures/full_org/original_8_17.png', './signatures/full_org/original_8_18.png', './signatures/full_org/original_8_19.png', './signatures/full_org/original_8_20.png', './signatures/full_org/original_8_21.png', './signatures/full_org/original_8_22.png', './signatures/full_org/original_8_23.png', './signatures/full_org/original_8_24.png'], ['./signatures/full_org/original_9_1.png', './signatures/full_org/original_9_2.png', './signatures/full_org/original_9_3.png', './signatures/full_org/original_9_4.png', './signatures/full_org/original_9_5.png', './signatures/full_org/original_9_6.png', './signatures/full_org/original_9_7.png', './signatures/full_org/original_9_8.png', './signatures/full_org/original_9_9.png', './signatures/full_org/original_9_10.png', './signatures/full_org/original_9_11.png', './signatures/full_org/original_9_12.png', './signatures/full_org/original_9_13.png', './signatures/full_org/original_9_14.png', './signatures/full_org/original_9_15.png', './signatures/full_org/original_9_16.png', './signatures/full_org/original_9_17.png', './signatures/full_org/original_9_18.png', './signatures/full_org/original_9_19.png', './signatures/full_org/original_9_20.png', './signatures/full_org/original_9_21.png', './signatures/full_org/original_9_22.png', './signatures/full_org/original_9_23.png', './signatures/full_org/original_9_24.png'], ['./signatures/full_org/original_10_1.png', './signatures/full_org/original_10_2.png', './signatures/full_org/original_10_3.png', './signatures/full_org/original_10_4.png', './signatures/full_org/original_10_5.png', './signatures/full_org/original_10_6.png', './signatures/full_org/original_10_7.png', './signatures/full_org/original_10_8.png', './signatures/full_org/original_10_9.png', './signatures/full_org/original_10_10.png', './signatures/full_org/original_10_11.png', './signatures/full_org/original_10_12.png', './signatures/full_org/original_10_13.png', './signatures/full_org/original_10_14.png', './signatures/full_org/original_10_15.png', './signatures/full_org/original_10_16.png', './signatures/full_org/original_10_17.png', './signatures/full_org/original_10_18.png', './signatures/full_org/original_10_19.png', './signatures/full_org/original_10_20.png', './signatures/full_org/original_10_21.png', './signatures/full_org/original_10_22.png', './signatures/full_org/original_10_23.png', './signatures/full_org/original_10_24.png'], ['./signatures/full_org/original_11_1.png', './signatures/full_org/original_11_2.png', './signatures/full_org/original_11_3.png', './signatures/full_org/original_11_4.png', './signatures/full_org/original_11_5.png', './signatures/full_org/original_11_6.png', './signatures/full_org/original_11_7.png', './signatures/full_org/original_11_8.png', './signatures/full_org/original_11_9.png', './signatures/full_org/original_11_10.png', './signatures/full_org/original_11_11.png', './signatures/full_org/original_11_12.png', './signatures/full_org/original_11_13.png', './signatures/full_org/original_11_14.png', './signatures/full_org/original_11_15.png', './signatures/full_org/original_11_16.png', './signatures/full_org/original_11_17.png', './signatures/full_org/original_11_18.png', './signatures/full_org/original_11_19.png', './signatures/full_org/original_11_20.png', './signatures/full_org/original_11_21.png', './signatures/full_org/original_11_22.png', './signatures/full_org/original_11_23.png', './signatures/full_org/original_11_24.png'], ['./signatures/full_org/original_12_1.png', './signatures/full_org/original_12_2.png', './signatures/full_org/original_12_3.png', './signatures/full_org/original_12_4.png', './signatures/full_org/original_12_5.png', './signatures/full_org/original_12_6.png', './signatures/full_org/original_12_7.png', './signatures/full_org/original_12_8.png', './signatures/full_org/original_12_9.png', './signatures/full_org/original_12_10.png', './signatures/full_org/original_12_11.png', './signatures/full_org/original_12_12.png', './signatures/full_org/original_12_13.png', './signatures/full_org/original_12_14.png', './signatures/full_org/original_12_15.png', './signatures/full_org/original_12_16.png', './signatures/full_org/original_12_17.png', './signatures/full_org/original_12_18.png', './signatures/full_org/original_12_19.png', './signatures/full_org/original_12_20.png', './signatures/full_org/original_12_21.png', './signatures/full_org/original_12_22.png', './signatures/full_org/original_12_23.png', './signatures/full_org/original_12_24.png'], ['./signatures/full_org/original_13_1.png', './signatures/full_org/original_13_2.png', './signatures/full_org/original_13_3.png', './signatures/full_org/original_13_4.png', './signatures/full_org/original_13_5.png', './signatures/full_org/original_13_6.png', './signatures/full_org/original_13_7.png', './signatures/full_org/original_13_8.png', './signatures/full_org/original_13_9.png', './signatures/full_org/original_13_10.png', './signatures/full_org/original_13_11.png', './signatures/full_org/original_13_12.png', './signatures/full_org/original_13_13.png', './signatures/full_org/original_13_14.png', './signatures/full_org/original_13_15.png', './signatures/full_org/original_13_16.png', './signatures/full_org/original_13_17.png', './signatures/full_org/original_13_18.png', './signatures/full_org/original_13_19.png', './signatures/full_org/original_13_20.png', './signatures/full_org/original_13_21.png', './signatures/full_org/original_13_22.png', './signatures/full_org/original_13_23.png', './signatures/full_org/original_13_24.png'], ['./signatures/full_org/original_14_1.png', './signatures/full_org/original_14_2.png', './signatures/full_org/original_14_3.png', './signatures/full_org/original_14_4.png', './signatures/full_org/original_14_5.png', './signatures/full_org/original_14_6.png', './signatures/full_org/original_14_7.png', './signatures/full_org/original_14_8.png', './signatures/full_org/original_14_9.png', './signatures/full_org/original_14_10.png', './signatures/full_org/original_14_11.png', './signatures/full_org/original_14_12.png', './signatures/full_org/original_14_13.png', './signatures/full_org/original_14_14.png', './signatures/full_org/original_14_15.png', './signatures/full_org/original_14_16.png', './signatures/full_org/original_14_17.png', './signatures/full_org/original_14_18.png', './signatures/full_org/original_14_19.png', './signatures/full_org/original_14_20.png', './signatures/full_org/original_14_21.png', './signatures/full_org/original_14_22.png', './signatures/full_org/original_14_23.png', './signatures/full_org/original_14_24.png'], ['./signatures/full_org/original_15_1.png', './signatures/full_org/original_15_2.png', './signatures/full_org/original_15_3.png', './signatures/full_org/original_15_4.png', './signatures/full_org/original_15_5.png', './signatures/full_org/original_15_6.png', './signatures/full_org/original_15_7.png', './signatures/full_org/original_15_8.png', './signatures/full_org/original_15_9.png', './signatures/full_org/original_15_10.png', './signatures/full_org/original_15_11.png', './signatures/full_org/original_15_12.png', './signatures/full_org/original_15_13.png', './signatures/full_org/original_15_14.png', './signatures/full_org/original_15_15.png', './signatures/full_org/original_15_16.png', './signatures/full_org/original_15_17.png', './signatures/full_org/original_15_18.png', './signatures/full_org/original_15_19.png', './signatures/full_org/original_15_20.png', './signatures/full_org/original_15_21.png', './signatures/full_org/original_15_22.png', './signatures/full_org/original_15_23.png', './signatures/full_org/original_15_24.png'], ['./signatures/full_org/original_16_1.png', './signatures/full_org/original_16_2.png', './signatures/full_org/original_16_3.png', './signatures/full_org/original_16_4.png', './signatures/full_org/original_16_5.png', './signatures/full_org/original_16_6.png', './signatures/full_org/original_16_7.png', './signatures/full_org/original_16_8.png', './signatures/full_org/original_16_9.png', './signatures/full_org/original_16_10.png', './signatures/full_org/original_16_11.png', './signatures/full_org/original_16_12.png', './signatures/full_org/original_16_13.png', './signatures/full_org/original_16_14.png', './signatures/full_org/original_16_15.png', './signatures/full_org/original_16_16.png', './signatures/full_org/original_16_17.png', './signatures/full_org/original_16_18.png', './signatures/full_org/original_16_19.png', './signatures/full_org/original_16_20.png', './signatures/full_org/original_16_21.png', './signatures/full_org/original_16_22.png', './signatures/full_org/original_16_23.png', './signatures/full_org/original_16_24.png'], ['./signatures/full_org/original_17_1.png', './signatures/full_org/original_17_2.png', './signatures/full_org/original_17_3.png', './signatures/full_org/original_17_4.png', './signatures/full_org/original_17_5.png', './signatures/full_org/original_17_6.png', './signatures/full_org/original_17_7.png', './signatures/full_org/original_17_8.png', './signatures/full_org/original_17_9.png', './signatures/full_org/original_17_10.png', './signatures/full_org/original_17_11.png', './signatures/full_org/original_17_12.png', './signatures/full_org/original_17_13.png', './signatures/full_org/original_17_14.png', './signatures/full_org/original_17_15.png', './signatures/full_org/original_17_16.png', './signatures/full_org/original_17_17.png', './signatures/full_org/original_17_18.png', './signatures/full_org/original_17_19.png', './signatures/full_org/original_17_20.png', './signatures/full_org/original_17_21.png', './signatures/full_org/original_17_22.png', './signatures/full_org/original_17_23.png', './signatures/full_org/original_17_24.png'], ['./signatures/full_org/original_18_1.png', './signatures/full_org/original_18_2.png', './signatures/full_org/original_18_3.png', './signatures/full_org/original_18_4.png', './signatures/full_org/original_18_5.png', './signatures/full_org/original_18_6.png', './signatures/full_org/original_18_7.png', './signatures/full_org/original_18_8.png', './signatures/full_org/original_18_9.png', './signatures/full_org/original_18_10.png', './signatures/full_org/original_18_11.png', './signatures/full_org/original_18_12.png', './signatures/full_org/original_18_13.png', './signatures/full_org/original_18_14.png', './signatures/full_org/original_18_15.png', './signatures/full_org/original_18_16.png', './signatures/full_org/original_18_17.png', './signatures/full_org/original_18_18.png', './signatures/full_org/original_18_19.png', './signatures/full_org/original_18_20.png', './signatures/full_org/original_18_21.png', './signatures/full_org/original_18_22.png', './signatures/full_org/original_18_23.png', './signatures/full_org/original_18_24.png'], ['./signatures/full_org/original_19_1.png', './signatures/full_org/original_19_2.png', './signatures/full_org/original_19_3.png', './signatures/full_org/original_19_4.png', './signatures/full_org/original_19_5.png', './signatures/full_org/original_19_6.png', './signatures/full_org/original_19_7.png', './signatures/full_org/original_19_8.png', './signatures/full_org/original_19_9.png', './signatures/full_org/original_19_10.png', './signatures/full_org/original_19_11.png', './signatures/full_org/original_19_12.png', './signatures/full_org/original_19_13.png', './signatures/full_org/original_19_14.png', './signatures/full_org/original_19_15.png', './signatures/full_org/original_19_16.png', './signatures/full_org/original_19_17.png', './signatures/full_org/original_19_18.png', './signatures/full_org/original_19_19.png', './signatures/full_org/original_19_20.png', './signatures/full_org/original_19_21.png', './signatures/full_org/original_19_22.png', './signatures/full_org/original_19_23.png', './signatures/full_org/original_19_24.png'], ['./signatures/full_org/original_20_1.png', './signatures/full_org/original_20_2.png', './signatures/full_org/original_20_3.png', './signatures/full_org/original_20_4.png', './signatures/full_org/original_20_5.png', './signatures/full_org/original_20_6.png', './signatures/full_org/original_20_7.png', './signatures/full_org/original_20_8.png', './signatures/full_org/original_20_9.png', './signatures/full_org/original_20_10.png', './signatures/full_org/original_20_11.png', './signatures/full_org/original_20_12.png', './signatures/full_org/original_20_13.png', './signatures/full_org/original_20_14.png', './signatures/full_org/original_20_15.png', './signatures/full_org/original_20_16.png', './signatures/full_org/original_20_17.png', './signatures/full_org/original_20_18.png', './signatures/full_org/original_20_19.png', './signatures/full_org/original_20_20.png', './signatures/full_org/original_20_21.png', './signatures/full_org/original_20_22.png', './signatures/full_org/original_20_23.png', './signatures/full_org/original_20_24.png'], ['./signatures/full_org/original_21_1.png', './signatures/full_org/original_21_2.png', './signatures/full_org/original_21_3.png', './signatures/full_org/original_21_4.png', './signatures/full_org/original_21_5.png', './signatures/full_org/original_21_6.png', './signatures/full_org/original_21_7.png', './signatures/full_org/original_21_8.png', './signatures/full_org/original_21_9.png', './signatures/full_org/original_21_10.png', './signatures/full_org/original_21_11.png', './signatures/full_org/original_21_12.png', './signatures/full_org/original_21_13.png', './signatures/full_org/original_21_14.png', './signatures/full_org/original_21_15.png', './signatures/full_org/original_21_16.png', './signatures/full_org/original_21_17.png', './signatures/full_org/original_21_18.png', './signatures/full_org/original_21_19.png', './signatures/full_org/original_21_20.png', './signatures/full_org/original_21_21.png', './signatures/full_org/original_21_22.png', './signatures/full_org/original_21_23.png', './signatures/full_org/original_21_24.png'], ['./signatures/full_org/original_22_1.png', './signatures/full_org/original_22_2.png', './signatures/full_org/original_22_3.png', './signatures/full_org/original_22_4.png', './signatures/full_org/original_22_5.png', './signatures/full_org/original_22_6.png', './signatures/full_org/original_22_7.png', './signatures/full_org/original_22_8.png', './signatures/full_org/original_22_9.png', './signatures/full_org/original_22_10.png', './signatures/full_org/original_22_11.png', './signatures/full_org/original_22_12.png', './signatures/full_org/original_22_13.png', './signatures/full_org/original_22_14.png', './signatures/full_org/original_22_15.png', './signatures/full_org/original_22_16.png', './signatures/full_org/original_22_17.png', './signatures/full_org/original_22_18.png', './signatures/full_org/original_22_19.png', './signatures/full_org/original_22_20.png', './signatures/full_org/original_22_21.png', './signatures/full_org/original_22_22.png', './signatures/full_org/original_22_23.png', './signatures/full_org/original_22_24.png'], ['./signatures/full_org/original_23_1.png', './signatures/full_org/original_23_2.png', './signatures/full_org/original_23_3.png', './signatures/full_org/original_23_4.png', './signatures/full_org/original_23_5.png', './signatures/full_org/original_23_6.png', './signatures/full_org/original_23_7.png', './signatures/full_org/original_23_8.png', './signatures/full_org/original_23_9.png', './signatures/full_org/original_23_10.png', './signatures/full_org/original_23_11.png', './signatures/full_org/original_23_12.png', './signatures/full_org/original_23_13.png', './signatures/full_org/original_23_14.png', './signatures/full_org/original_23_15.png', './signatures/full_org/original_23_16.png', './signatures/full_org/original_23_17.png', './signatures/full_org/original_23_18.png', './signatures/full_org/original_23_19.png', './signatures/full_org/original_23_20.png', './signatures/full_org/original_23_21.png', './signatures/full_org/original_23_22.png', './signatures/full_org/original_23_23.png', './signatures/full_org/original_23_24.png'], ['./signatures/full_org/original_24_1.png', './signatures/full_org/original_24_2.png', './signatures/full_org/original_24_3.png', './signatures/full_org/original_24_4.png', './signatures/full_org/original_24_5.png', './signatures/full_org/original_24_6.png', './signatures/full_org/original_24_7.png', './signatures/full_org/original_24_8.png', './signatures/full_org/original_24_9.png', './signatures/full_org/original_24_10.png', './signatures/full_org/original_24_11.png', './signatures/full_org/original_24_12.png', './signatures/full_org/original_24_13.png', './signatures/full_org/original_24_14.png', './signatures/full_org/original_24_15.png', './signatures/full_org/original_24_16.png', './signatures/full_org/original_24_17.png', './signatures/full_org/original_24_18.png', './signatures/full_org/original_24_19.png', './signatures/full_org/original_24_20.png', './signatures/full_org/original_24_21.png', './signatures/full_org/original_24_22.png', './signatures/full_org/original_24_23.png', './signatures/full_org/original_24_24.png'], ['./signatures/full_org/original_25_1.png', './signatures/full_org/original_25_2.png', './signatures/full_org/original_25_3.png', './signatures/full_org/original_25_4.png', './signatures/full_org/original_25_5.png', './signatures/full_org/original_25_6.png', './signatures/full_org/original_25_7.png', './signatures/full_org/original_25_8.png', './signatures/full_org/original_25_9.png', './signatures/full_org/original_25_10.png', './signatures/full_org/original_25_11.png', './signatures/full_org/original_25_12.png', './signatures/full_org/original_25_13.png', './signatures/full_org/original_25_14.png', './signatures/full_org/original_25_15.png', './signatures/full_org/original_25_16.png', './signatures/full_org/original_25_17.png', './signatures/full_org/original_25_18.png', './signatures/full_org/original_25_19.png', './signatures/full_org/original_25_20.png', './signatures/full_org/original_25_21.png', './signatures/full_org/original_25_22.png', './signatures/full_org/original_25_23.png', './signatures/full_org/original_25_24.png'], ['./signatures/full_org/original_26_1.png', './signatures/full_org/original_26_2.png', './signatures/full_org/original_26_3.png', './signatures/full_org/original_26_4.png', './signatures/full_org/original_26_5.png', './signatures/full_org/original_26_6.png', './signatures/full_org/original_26_7.png', './signatures/full_org/original_26_8.png', './signatures/full_org/original_26_9.png', './signatures/full_org/original_26_10.png', './signatures/full_org/original_26_11.png', './signatures/full_org/original_26_12.png', './signatures/full_org/original_26_13.png', './signatures/full_org/original_26_14.png', './signatures/full_org/original_26_15.png', './signatures/full_org/original_26_16.png', './signatures/full_org/original_26_17.png', './signatures/full_org/original_26_18.png', './signatures/full_org/original_26_19.png', './signatures/full_org/original_26_20.png', './signatures/full_org/original_26_21.png', './signatures/full_org/original_26_22.png', './signatures/full_org/original_26_23.png', './signatures/full_org/original_26_24.png'], ['./signatures/full_org/original_27_1.png', './signatures/full_org/original_27_2.png', './signatures/full_org/original_27_3.png', './signatures/full_org/original_27_4.png', './signatures/full_org/original_27_5.png', './signatures/full_org/original_27_6.png', './signatures/full_org/original_27_7.png', './signatures/full_org/original_27_8.png', './signatures/full_org/original_27_9.png', './signatures/full_org/original_27_10.png', './signatures/full_org/original_27_11.png', './signatures/full_org/original_27_12.png', './signatures/full_org/original_27_13.png', './signatures/full_org/original_27_14.png', './signatures/full_org/original_27_15.png', './signatures/full_org/original_27_16.png', './signatures/full_org/original_27_17.png', './signatures/full_org/original_27_18.png', './signatures/full_org/original_27_19.png', './signatures/full_org/original_27_20.png', './signatures/full_org/original_27_21.png', './signatures/full_org/original_27_22.png', './signatures/full_org/original_27_23.png', './signatures/full_org/original_27_24.png'], ['./signatures/full_org/original_28_1.png', './signatures/full_org/original_28_2.png', './signatures/full_org/original_28_3.png', './signatures/full_org/original_28_4.png', './signatures/full_org/original_28_5.png', './signatures/full_org/original_28_6.png', './signatures/full_org/original_28_7.png', './signatures/full_org/original_28_8.png', './signatures/full_org/original_28_9.png', './signatures/full_org/original_28_10.png', './signatures/full_org/original_28_11.png', './signatures/full_org/original_28_12.png', './signatures/full_org/original_28_13.png', './signatures/full_org/original_28_14.png', './signatures/full_org/original_28_15.png', './signatures/full_org/original_28_16.png', './signatures/full_org/original_28_17.png', './signatures/full_org/original_28_18.png', './signatures/full_org/original_28_19.png', './signatures/full_org/original_28_20.png', './signatures/full_org/original_28_21.png', './signatures/full_org/original_28_22.png', './signatures/full_org/original_28_23.png', './signatures/full_org/original_28_24.png'], ['./signatures/full_org/original_29_1.png', './signatures/full_org/original_29_2.png', './signatures/full_org/original_29_3.png', './signatures/full_org/original_29_4.png', './signatures/full_org/original_29_5.png', './signatures/full_org/original_29_6.png', './signatures/full_org/original_29_7.png', './signatures/full_org/original_29_8.png', './signatures/full_org/original_29_9.png', './signatures/full_org/original_29_10.png', './signatures/full_org/original_29_11.png', './signatures/full_org/original_29_12.png', './signatures/full_org/original_29_13.png', './signatures/full_org/original_29_14.png', './signatures/full_org/original_29_15.png', './signatures/full_org/original_29_16.png', './signatures/full_org/original_29_17.png', './signatures/full_org/original_29_18.png', './signatures/full_org/original_29_19.png', './signatures/full_org/original_29_20.png', './signatures/full_org/original_29_21.png', './signatures/full_org/original_29_22.png', './signatures/full_org/original_29_23.png', './signatures/full_org/original_29_24.png'], ['./signatures/full_org/original_30_1.png', './signatures/full_org/original_30_2.png', './signatures/full_org/original_30_3.png', './signatures/full_org/original_30_4.png', './signatures/full_org/original_30_5.png', './signatures/full_org/original_30_6.png', './signatures/full_org/original_30_7.png', './signatures/full_org/original_30_8.png', './signatures/full_org/original_30_9.png', './signatures/full_org/original_30_10.png', './signatures/full_org/original_30_11.png', './signatures/full_org/original_30_12.png', './signatures/full_org/original_30_13.png', './signatures/full_org/original_30_14.png', './signatures/full_org/original_30_15.png', './signatures/full_org/original_30_16.png', './signatures/full_org/original_30_17.png', './signatures/full_org/original_30_18.png', './signatures/full_org/original_30_19.png', './signatures/full_org/original_30_20.png', './signatures/full_org/original_30_21.png', './signatures/full_org/original_30_22.png', './signatures/full_org/original_30_23.png', './signatures/full_org/original_30_24.png'], ['./signatures/full_org/original_31_1.png', './signatures/full_org/original_31_2.png', './signatures/full_org/original_31_3.png', './signatures/full_org/original_31_4.png', './signatures/full_org/original_31_5.png', './signatures/full_org/original_31_6.png', './signatures/full_org/original_31_7.png', './signatures/full_org/original_31_8.png', './signatures/full_org/original_31_9.png', './signatures/full_org/original_31_10.png', './signatures/full_org/original_31_11.png', './signatures/full_org/original_31_12.png', './signatures/full_org/original_31_13.png', './signatures/full_org/original_31_14.png', './signatures/full_org/original_31_15.png', './signatures/full_org/original_31_16.png', './signatures/full_org/original_31_17.png', './signatures/full_org/original_31_18.png', './signatures/full_org/original_31_19.png', './signatures/full_org/original_31_20.png', './signatures/full_org/original_31_21.png', './signatures/full_org/original_31_22.png', './signatures/full_org/original_31_23.png', './signatures/full_org/original_31_24.png'], ['./signatures/full_org/original_32_1.png', './signatures/full_org/original_32_2.png', './signatures/full_org/original_32_3.png', './signatures/full_org/original_32_4.png', './signatures/full_org/original_32_5.png', './signatures/full_org/original_32_6.png', './signatures/full_org/original_32_7.png', './signatures/full_org/original_32_8.png', './signatures/full_org/original_32_9.png', './signatures/full_org/original_32_10.png', './signatures/full_org/original_32_11.png', './signatures/full_org/original_32_12.png', './signatures/full_org/original_32_13.png', './signatures/full_org/original_32_14.png', './signatures/full_org/original_32_15.png', './signatures/full_org/original_32_16.png', './signatures/full_org/original_32_17.png', './signatures/full_org/original_32_18.png', './signatures/full_org/original_32_19.png', './signatures/full_org/original_32_20.png', './signatures/full_org/original_32_21.png', './signatures/full_org/original_32_22.png', './signatures/full_org/original_32_23.png', './signatures/full_org/original_32_24.png'], ['./signatures/full_org/original_33_1.png', './signatures/full_org/original_33_2.png', './signatures/full_org/original_33_3.png', './signatures/full_org/original_33_4.png', './signatures/full_org/original_33_5.png', './signatures/full_org/original_33_6.png', './signatures/full_org/original_33_7.png', './signatures/full_org/original_33_8.png', './signatures/full_org/original_33_9.png', './signatures/full_org/original_33_10.png', './signatures/full_org/original_33_11.png', './signatures/full_org/original_33_12.png', './signatures/full_org/original_33_13.png', './signatures/full_org/original_33_14.png', './signatures/full_org/original_33_15.png', './signatures/full_org/original_33_16.png', './signatures/full_org/original_33_17.png', './signatures/full_org/original_33_18.png', './signatures/full_org/original_33_19.png', './signatures/full_org/original_33_20.png', './signatures/full_org/original_33_21.png', './signatures/full_org/original_33_22.png', './signatures/full_org/original_33_23.png', './signatures/full_org/original_33_24.png'], ['./signatures/full_org/original_34_1.png', './signatures/full_org/original_34_2.png', './signatures/full_org/original_34_3.png', './signatures/full_org/original_34_4.png', './signatures/full_org/original_34_5.png', './signatures/full_org/original_34_6.png', './signatures/full_org/original_34_7.png', './signatures/full_org/original_34_8.png', './signatures/full_org/original_34_9.png', './signatures/full_org/original_34_10.png', './signatures/full_org/original_34_11.png', './signatures/full_org/original_34_12.png', './signatures/full_org/original_34_13.png', './signatures/full_org/original_34_14.png', './signatures/full_org/original_34_15.png', './signatures/full_org/original_34_16.png', './signatures/full_org/original_34_17.png', './signatures/full_org/original_34_18.png', './signatures/full_org/original_34_19.png', './signatures/full_org/original_34_20.png', './signatures/full_org/original_34_21.png', './signatures/full_org/original_34_22.png', './signatures/full_org/original_34_23.png', './signatures/full_org/original_34_24.png'], ['./signatures/full_org/original_35_1.png', './signatures/full_org/original_35_2.png', './signatures/full_org/original_35_3.png', './signatures/full_org/original_35_4.png', './signatures/full_org/original_35_5.png', './signatures/full_org/original_35_6.png', './signatures/full_org/original_35_7.png', './signatures/full_org/original_35_8.png', './signatures/full_org/original_35_9.png', './signatures/full_org/original_35_10.png', './signatures/full_org/original_35_11.png', './signatures/full_org/original_35_12.png', './signatures/full_org/original_35_13.png', './signatures/full_org/original_35_14.png', './signatures/full_org/original_35_15.png', './signatures/full_org/original_35_16.png', './signatures/full_org/original_35_17.png', './signatures/full_org/original_35_18.png', './signatures/full_org/original_35_19.png', './signatures/full_org/original_35_20.png', './signatures/full_org/original_35_21.png', './signatures/full_org/original_35_22.png', './signatures/full_org/original_35_23.png', './signatures/full_org/original_35_24.png'], ['./signatures/full_org/original_36_1.png', './signatures/full_org/original_36_2.png', './signatures/full_org/original_36_3.png', './signatures/full_org/original_36_4.png', './signatures/full_org/original_36_5.png', './signatures/full_org/original_36_6.png', './signatures/full_org/original_36_7.png', './signatures/full_org/original_36_8.png', './signatures/full_org/original_36_9.png', './signatures/full_org/original_36_10.png', './signatures/full_org/original_36_11.png', './signatures/full_org/original_36_12.png', './signatures/full_org/original_36_13.png', './signatures/full_org/original_36_14.png', './signatures/full_org/original_36_15.png', './signatures/full_org/original_36_16.png', './signatures/full_org/original_36_17.png', './signatures/full_org/original_36_18.png', './signatures/full_org/original_36_19.png', './signatures/full_org/original_36_20.png', './signatures/full_org/original_36_21.png', './signatures/full_org/original_36_22.png', './signatures/full_org/original_36_23.png', './signatures/full_org/original_36_24.png'], ['./signatures/full_org/original_37_1.png', './signatures/full_org/original_37_2.png', './signatures/full_org/original_37_3.png', './signatures/full_org/original_37_4.png', './signatures/full_org/original_37_5.png', './signatures/full_org/original_37_6.png', './signatures/full_org/original_37_7.png', './signatures/full_org/original_37_8.png', './signatures/full_org/original_37_9.png', './signatures/full_org/original_37_10.png', './signatures/full_org/original_37_11.png', './signatures/full_org/original_37_12.png', './signatures/full_org/original_37_13.png', './signatures/full_org/original_37_14.png', './signatures/full_org/original_37_15.png', './signatures/full_org/original_37_16.png', './signatures/full_org/original_37_17.png', './signatures/full_org/original_37_18.png', './signatures/full_org/original_37_19.png', './signatures/full_org/original_37_20.png', './signatures/full_org/original_37_21.png', './signatures/full_org/original_37_22.png', './signatures/full_org/original_37_23.png', './signatures/full_org/original_37_24.png'], ['./signatures/full_org/original_38_1.png', './signatures/full_org/original_38_2.png', './signatures/full_org/original_38_3.png', './signatures/full_org/original_38_4.png', './signatures/full_org/original_38_5.png', './signatures/full_org/original_38_6.png', './signatures/full_org/original_38_7.png', './signatures/full_org/original_38_8.png', './signatures/full_org/original_38_9.png', './signatures/full_org/original_38_10.png', './signatures/full_org/original_38_11.png', './signatures/full_org/original_38_12.png', './signatures/full_org/original_38_13.png', './signatures/full_org/original_38_14.png', './signatures/full_org/original_38_15.png', './signatures/full_org/original_38_16.png', './signatures/full_org/original_38_17.png', './signatures/full_org/original_38_18.png', './signatures/full_org/original_38_19.png', './signatures/full_org/original_38_20.png', './signatures/full_org/original_38_21.png', './signatures/full_org/original_38_22.png', './signatures/full_org/original_38_23.png', './signatures/full_org/original_38_24.png'], ['./signatures/full_org/original_39_1.png', './signatures/full_org/original_39_2.png', './signatures/full_org/original_39_3.png', './signatures/full_org/original_39_4.png', './signatures/full_org/original_39_5.png', './signatures/full_org/original_39_6.png', './signatures/full_org/original_39_7.png', './signatures/full_org/original_39_8.png', './signatures/full_org/original_39_9.png', './signatures/full_org/original_39_10.png', './signatures/full_org/original_39_11.png', './signatures/full_org/original_39_12.png', './signatures/full_org/original_39_13.png', './signatures/full_org/original_39_14.png', './signatures/full_org/original_39_15.png', './signatures/full_org/original_39_16.png', './signatures/full_org/original_39_17.png', './signatures/full_org/original_39_18.png', './signatures/full_org/original_39_19.png', './signatures/full_org/original_39_20.png', './signatures/full_org/original_39_21.png', './signatures/full_org/original_39_22.png', './signatures/full_org/original_39_23.png', './signatures/full_org/original_39_24.png'], ['./signatures/full_org/original_40_1.png', './signatures/full_org/original_40_2.png', './signatures/full_org/original_40_3.png', './signatures/full_org/original_40_4.png', './signatures/full_org/original_40_5.png', './signatures/full_org/original_40_6.png', './signatures/full_org/original_40_7.png', './signatures/full_org/original_40_8.png', './signatures/full_org/original_40_9.png', './signatures/full_org/original_40_10.png', './signatures/full_org/original_40_11.png', './signatures/full_org/original_40_12.png', './signatures/full_org/original_40_13.png', './signatures/full_org/original_40_14.png', './signatures/full_org/original_40_15.png', './signatures/full_org/original_40_16.png', './signatures/full_org/original_40_17.png', './signatures/full_org/original_40_18.png', './signatures/full_org/original_40_19.png', './signatures/full_org/original_40_20.png', './signatures/full_org/original_40_21.png', './signatures/full_org/original_40_22.png', './signatures/full_org/original_40_23.png', './signatures/full_org/original_40_24.png'], ['./signatures/full_org/original_41_1.png', './signatures/full_org/original_41_2.png', './signatures/full_org/original_41_3.png', './signatures/full_org/original_41_4.png', './signatures/full_org/original_41_5.png', './signatures/full_org/original_41_6.png', './signatures/full_org/original_41_7.png', './signatures/full_org/original_41_8.png', './signatures/full_org/original_41_9.png', './signatures/full_org/original_41_10.png', './signatures/full_org/original_41_11.png', './signatures/full_org/original_41_12.png', './signatures/full_org/original_41_13.png', './signatures/full_org/original_41_14.png', './signatures/full_org/original_41_15.png', './signatures/full_org/original_41_16.png', './signatures/full_org/original_41_17.png', './signatures/full_org/original_41_18.png', './signatures/full_org/original_41_19.png', './signatures/full_org/original_41_20.png', './signatures/full_org/original_41_21.png', './signatures/full_org/original_41_22.png', './signatures/full_org/original_41_23.png', './signatures/full_org/original_41_24.png'], ['./signatures/full_org/original_42_1.png', './signatures/full_org/original_42_2.png', './signatures/full_org/original_42_3.png', './signatures/full_org/original_42_4.png', './signatures/full_org/original_42_5.png', './signatures/full_org/original_42_6.png', './signatures/full_org/original_42_7.png', './signatures/full_org/original_42_8.png', './signatures/full_org/original_42_9.png', './signatures/full_org/original_42_10.png', './signatures/full_org/original_42_11.png', './signatures/full_org/original_42_12.png', './signatures/full_org/original_42_13.png', './signatures/full_org/original_42_14.png', './signatures/full_org/original_42_15.png', './signatures/full_org/original_42_16.png', './signatures/full_org/original_42_17.png', './signatures/full_org/original_42_18.png', './signatures/full_org/original_42_19.png', './signatures/full_org/original_42_20.png', './signatures/full_org/original_42_21.png', './signatures/full_org/original_42_22.png', './signatures/full_org/original_42_23.png', './signatures/full_org/original_42_24.png'], ['./signatures/full_org/original_43_1.png', './signatures/full_org/original_43_2.png', './signatures/full_org/original_43_3.png', './signatures/full_org/original_43_4.png', './signatures/full_org/original_43_5.png', './signatures/full_org/original_43_6.png', './signatures/full_org/original_43_7.png', './signatures/full_org/original_43_8.png', './signatures/full_org/original_43_9.png', './signatures/full_org/original_43_10.png', './signatures/full_org/original_43_11.png', './signatures/full_org/original_43_12.png', './signatures/full_org/original_43_13.png', './signatures/full_org/original_43_14.png', './signatures/full_org/original_43_15.png', './signatures/full_org/original_43_16.png', './signatures/full_org/original_43_17.png', './signatures/full_org/original_43_18.png', './signatures/full_org/original_43_19.png', './signatures/full_org/original_43_20.png', './signatures/full_org/original_43_21.png', './signatures/full_org/original_43_22.png', './signatures/full_org/original_43_23.png', './signatures/full_org/original_43_24.png'], ['./signatures/full_org/original_44_1.png', './signatures/full_org/original_44_2.png', './signatures/full_org/original_44_3.png', './signatures/full_org/original_44_4.png', './signatures/full_org/original_44_5.png', './signatures/full_org/original_44_6.png', './signatures/full_org/original_44_7.png', './signatures/full_org/original_44_8.png', './signatures/full_org/original_44_9.png', './signatures/full_org/original_44_10.png', './signatures/full_org/original_44_11.png', './signatures/full_org/original_44_12.png', './signatures/full_org/original_44_13.png', './signatures/full_org/original_44_14.png', './signatures/full_org/original_44_15.png', './signatures/full_org/original_44_16.png', './signatures/full_org/original_44_17.png', './signatures/full_org/original_44_18.png', './signatures/full_org/original_44_19.png', './signatures/full_org/original_44_20.png', './signatures/full_org/original_44_21.png', './signatures/full_org/original_44_22.png', './signatures/full_org/original_44_23.png', './signatures/full_org/original_44_24.png'], ['./signatures/full_org/original_45_1.png', './signatures/full_org/original_45_2.png', './signatures/full_org/original_45_3.png', './signatures/full_org/original_45_4.png', './signatures/full_org/original_45_5.png', './signatures/full_org/original_45_6.png', './signatures/full_org/original_45_7.png', './signatures/full_org/original_45_8.png', './signatures/full_org/original_45_9.png', './signatures/full_org/original_45_10.png', './signatures/full_org/original_45_11.png', './signatures/full_org/original_45_12.png', './signatures/full_org/original_45_13.png', './signatures/full_org/original_45_14.png', './signatures/full_org/original_45_15.png', './signatures/full_org/original_45_16.png', './signatures/full_org/original_45_17.png', './signatures/full_org/original_45_18.png', './signatures/full_org/original_45_19.png', './signatures/full_org/original_45_20.png', './signatures/full_org/original_45_21.png', './signatures/full_org/original_45_22.png', './signatures/full_org/original_45_23.png', './signatures/full_org/original_45_24.png'], ['./signatures/full_org/original_46_1.png', './signatures/full_org/original_46_2.png', './signatures/full_org/original_46_3.png', './signatures/full_org/original_46_4.png', './signatures/full_org/original_46_5.png', './signatures/full_org/original_46_6.png', './signatures/full_org/original_46_7.png', './signatures/full_org/original_46_8.png', './signatures/full_org/original_46_9.png', './signatures/full_org/original_46_10.png', './signatures/full_org/original_46_11.png', './signatures/full_org/original_46_12.png', './signatures/full_org/original_46_13.png', './signatures/full_org/original_46_14.png', './signatures/full_org/original_46_15.png', './signatures/full_org/original_46_16.png', './signatures/full_org/original_46_17.png', './signatures/full_org/original_46_18.png', './signatures/full_org/original_46_19.png', './signatures/full_org/original_46_20.png', './signatures/full_org/original_46_21.png', './signatures/full_org/original_46_22.png', './signatures/full_org/original_46_23.png', './signatures/full_org/original_46_24.png'], ['./signatures/full_org/original_47_1.png', './signatures/full_org/original_47_2.png', './signatures/full_org/original_47_3.png', './signatures/full_org/original_47_4.png', './signatures/full_org/original_47_5.png', './signatures/full_org/original_47_6.png', './signatures/full_org/original_47_7.png', './signatures/full_org/original_47_8.png', './signatures/full_org/original_47_9.png', './signatures/full_org/original_47_10.png', './signatures/full_org/original_47_11.png', './signatures/full_org/original_47_12.png', './signatures/full_org/original_47_13.png', './signatures/full_org/original_47_14.png', './signatures/full_org/original_47_15.png', './signatures/full_org/original_47_16.png', './signatures/full_org/original_47_17.png', './signatures/full_org/original_47_18.png', './signatures/full_org/original_47_19.png', './signatures/full_org/original_47_20.png', './signatures/full_org/original_47_21.png', './signatures/full_org/original_47_22.png', './signatures/full_org/original_47_23.png', './signatures/full_org/original_47_24.png'], ['./signatures/full_org/original_48_1.png', './signatures/full_org/original_48_2.png', './signatures/full_org/original_48_3.png', './signatures/full_org/original_48_4.png', './signatures/full_org/original_48_5.png', './signatures/full_org/original_48_6.png', './signatures/full_org/original_48_7.png', './signatures/full_org/original_48_8.png', './signatures/full_org/original_48_9.png', './signatures/full_org/original_48_10.png', './signatures/full_org/original_48_11.png', './signatures/full_org/original_48_12.png', './signatures/full_org/original_48_13.png', './signatures/full_org/original_48_14.png', './signatures/full_org/original_48_15.png', './signatures/full_org/original_48_16.png', './signatures/full_org/original_48_17.png', './signatures/full_org/original_48_18.png', './signatures/full_org/original_48_19.png', './signatures/full_org/original_48_20.png', './signatures/full_org/original_48_21.png', './signatures/full_org/original_48_22.png', './signatures/full_org/original_48_23.png', './signatures/full_org/original_48_24.png'], ['./signatures/full_org/original_49_1.png', './signatures/full_org/original_49_2.png', './signatures/full_org/original_49_3.png', './signatures/full_org/original_49_4.png', './signatures/full_org/original_49_5.png', './signatures/full_org/original_49_6.png', './signatures/full_org/original_49_7.png', './signatures/full_org/original_49_8.png', './signatures/full_org/original_49_9.png', './signatures/full_org/original_49_10.png', './signatures/full_org/original_49_11.png', './signatures/full_org/original_49_12.png', './signatures/full_org/original_49_13.png', './signatures/full_org/original_49_14.png', './signatures/full_org/original_49_15.png', './signatures/full_org/original_49_16.png', './signatures/full_org/original_49_17.png', './signatures/full_org/original_49_18.png', './signatures/full_org/original_49_19.png', './signatures/full_org/original_49_20.png', './signatures/full_org/original_49_21.png', './signatures/full_org/original_49_22.png', './signatures/full_org/original_49_23.png', './signatures/full_org/original_49_24.png'], ['./signatures/full_org/original_50_1.png', './signatures/full_org/original_50_2.png', './signatures/full_org/original_50_3.png', './signatures/full_org/original_50_4.png', './signatures/full_org/original_50_5.png', './signatures/full_org/original_50_6.png', './signatures/full_org/original_50_7.png', './signatures/full_org/original_50_8.png', './signatures/full_org/original_50_9.png', './signatures/full_org/original_50_10.png', './signatures/full_org/original_50_11.png', './signatures/full_org/original_50_12.png', './signatures/full_org/original_50_13.png', './signatures/full_org/original_50_14.png', './signatures/full_org/original_50_15.png', './signatures/full_org/original_50_16.png', './signatures/full_org/original_50_17.png', './signatures/full_org/original_50_18.png', './signatures/full_org/original_50_19.png', './signatures/full_org/original_50_20.png', './signatures/full_org/original_50_21.png', './signatures/full_org/original_50_22.png', './signatures/full_org/original_50_23.png', './signatures/full_org/original_50_24.png'], ['./signatures/full_org/original_51_1.png', './signatures/full_org/original_51_2.png', './signatures/full_org/original_51_3.png', './signatures/full_org/original_51_4.png', './signatures/full_org/original_51_5.png', './signatures/full_org/original_51_6.png', './signatures/full_org/original_51_7.png', './signatures/full_org/original_51_8.png', './signatures/full_org/original_51_9.png', './signatures/full_org/original_51_10.png', './signatures/full_org/original_51_11.png', './signatures/full_org/original_51_12.png', './signatures/full_org/original_51_13.png', './signatures/full_org/original_51_14.png', './signatures/full_org/original_51_15.png', './signatures/full_org/original_51_16.png', './signatures/full_org/original_51_17.png', './signatures/full_org/original_51_18.png', './signatures/full_org/original_51_19.png', './signatures/full_org/original_51_20.png', './signatures/full_org/original_51_21.png', './signatures/full_org/original_51_22.png', './signatures/full_org/original_51_23.png', './signatures/full_org/original_51_24.png'], ['./signatures/full_org/original_52_1.png', './signatures/full_org/original_52_2.png', './signatures/full_org/original_52_3.png', './signatures/full_org/original_52_4.png', './signatures/full_org/original_52_5.png', './signatures/full_org/original_52_6.png', './signatures/full_org/original_52_7.png', './signatures/full_org/original_52_8.png', './signatures/full_org/original_52_9.png', './signatures/full_org/original_52_10.png', './signatures/full_org/original_52_11.png', './signatures/full_org/original_52_12.png', './signatures/full_org/original_52_13.png', './signatures/full_org/original_52_14.png', './signatures/full_org/original_52_15.png', './signatures/full_org/original_52_16.png', './signatures/full_org/original_52_17.png', './signatures/full_org/original_52_18.png', './signatures/full_org/original_52_19.png', './signatures/full_org/original_52_20.png', './signatures/full_org/original_52_21.png', './signatures/full_org/original_52_22.png', './signatures/full_org/original_52_23.png', './signatures/full_org/original_52_24.png'], ['./signatures/full_org/original_53_1.png', './signatures/full_org/original_53_2.png', './signatures/full_org/original_53_3.png', './signatures/full_org/original_53_4.png', './signatures/full_org/original_53_5.png', './signatures/full_org/original_53_6.png', './signatures/full_org/original_53_7.png', './signatures/full_org/original_53_8.png', './signatures/full_org/original_53_9.png', './signatures/full_org/original_53_10.png', './signatures/full_org/original_53_11.png', './signatures/full_org/original_53_12.png', './signatures/full_org/original_53_13.png', './signatures/full_org/original_53_14.png', './signatures/full_org/original_53_15.png', './signatures/full_org/original_53_16.png', './signatures/full_org/original_53_17.png', './signatures/full_org/original_53_18.png', './signatures/full_org/original_53_19.png', './signatures/full_org/original_53_20.png', './signatures/full_org/original_53_21.png', './signatures/full_org/original_53_22.png', './signatures/full_org/original_53_23.png', './signatures/full_org/original_53_24.png'], ['./signatures/full_org/original_54_1.png', './signatures/full_org/original_54_2.png', './signatures/full_org/original_54_3.png', './signatures/full_org/original_54_4.png', './signatures/full_org/original_54_5.png', './signatures/full_org/original_54_6.png', './signatures/full_org/original_54_7.png', './signatures/full_org/original_54_8.png', './signatures/full_org/original_54_9.png', './signatures/full_org/original_54_10.png', './signatures/full_org/original_54_11.png', './signatures/full_org/original_54_12.png', './signatures/full_org/original_54_13.png', './signatures/full_org/original_54_14.png', './signatures/full_org/original_54_15.png', './signatures/full_org/original_54_16.png', './signatures/full_org/original_54_17.png', './signatures/full_org/original_54_18.png', './signatures/full_org/original_54_19.png', './signatures/full_org/original_54_20.png', './signatures/full_org/original_54_21.png', './signatures/full_org/original_54_22.png', './signatures/full_org/original_54_23.png', './signatures/full_org/original_54_24.png'], ['./signatures/full_org/original_55_1.png', './signatures/full_org/original_55_2.png', './signatures/full_org/original_55_3.png', './signatures/full_org/original_55_4.png', './signatures/full_org/original_55_5.png', './signatures/full_org/original_55_6.png', './signatures/full_org/original_55_7.png', './signatures/full_org/original_55_8.png', './signatures/full_org/original_55_9.png', './signatures/full_org/original_55_10.png', './signatures/full_org/original_55_11.png', './signatures/full_org/original_55_12.png', './signatures/full_org/original_55_13.png', './signatures/full_org/original_55_14.png', './signatures/full_org/original_55_15.png', './signatures/full_org/original_55_16.png', './signatures/full_org/original_55_17.png', './signatures/full_org/original_55_18.png', './signatures/full_org/original_55_19.png', './signatures/full_org/original_55_20.png', './signatures/full_org/original_55_21.png', './signatures/full_org/original_55_22.png', './signatures/full_org/original_55_23.png', './signatures/full_org/original_55_24.png']]\n"
     ]
    }
   ],
   "source": [
    "print(orig_groups)     # it is a list of lists"
   ]
  },
  {
   "cell_type": "markdown",
   "id": "a5a966b6",
   "metadata": {},
   "source": [
    "### Train-Validation-Test Split\n",
    ". Signatures of 42 people are used for training\n",
    ". Signatures of 7 people are used for validation\n",
    ". Signatures of 6 people are used for testing"
   ]
  },
  {
   "cell_type": "code",
   "execution_count": 7,
   "id": "88fdcee3",
   "metadata": {},
   "outputs": [],
   "source": [
    "orig_train, orig_val, orig_test = orig_groups[:42], orig_groups[42:49], orig_groups[49:55]\n",
    "forg_train, forg_val, forg_test = forg_groups[:42], forg_groups[42:49], forg_groups[49:55]"
   ]
  },
  {
   "cell_type": "code",
   "execution_count": 8,
   "id": "b4e37476",
   "metadata": {},
   "outputs": [],
   "source": [
    "# All the images will be converted to the same size before processing\n",
    "img_h, img_w = 155, 220"
   ]
  },
  {
   "cell_type": "code",
   "execution_count": 9,
   "id": "202cb77c",
   "metadata": {},
   "outputs": [],
   "source": [
    "def generate_batch(orig_groups, forg_groups, batch_size = 32):\n",
    "    '''Function to generate a batch of data with batch_size number of data points\n",
    "    Half of the data points will be Genuine-Genuine pairs and half will be Genuine-Forged pairs'''\n",
    "    while True:\n",
    "        orig_pairs = []\n",
    "        forg_pairs = []\n",
    "        genuine_labels = []\n",
    "        forged_labels = []\n",
    "        all_pairs = []\n",
    "        all_labels = []\n",
    "        \n",
    "        # Here we create pairs of Genuine-Genuine image names and Genuine-Forged image names\n",
    "        # For every person we have 24 genuine signatures, hence we have \n",
    "        # 24 choose 2 = 276 Genuine-Genuine image pairs for one person.\n",
    "        # To make Genuine-Forged pairs, we pair every Genuine signature of a person\n",
    "        # with 12 randomly sampled Forged signatures of the same person.\n",
    "        # Thus we make 24 * 12 = 300 Genuine-Forged image pairs for one person.\n",
    "        # In all we have 120 person's data in the training data.\n",
    "        # Total no. of Genuine-Genuine pairs = 120 * 276 = 33120\n",
    "        # Total number of Genuine-Forged pairs = 120 * 300 = 36000\n",
    "        # Total no. of data points = 33120 + 36000 = 69120\n",
    "        for orig, forg in zip(orig_groups, forg_groups):\n",
    "            orig_pairs.extend(list(itertools.combinations(orig, 2)))\n",
    "            for i in range(len(forg)):\n",
    "                forg_pairs.extend(list(itertools.product(orig[i:i+1], random.sample(forg, 12))))\n",
    "        \n",
    "        # Label for Genuine-Genuine pairs is 1\n",
    "        # Label for Genuine-Forged pairs is 0\n",
    "        genuine_labels = [1]*len(orig_pairs)\n",
    "        forged_labels = [0]*len(forg_pairs)\n",
    "        \n",
    "        # Concatenate all the pairs together along with their labels and shuffle them\n",
    "        all_pairs = orig_pairs + forg_pairs\n",
    "        all_labels = genuine_labels + forged_labels\n",
    "        del orig_pairs, forg_pairs, genuine_labels, forged_labels\n",
    "        all_pairs, all_labels = shuffle(all_pairs, all_labels)\n",
    "        \n",
    "        # The lists above contain only the image names \n",
    "        # Actual images are loaded and yielded below in batches\n",
    "        # Below we prepare a batch of data points and yield the batch\n",
    "        # In each batch we load \"batch_size\" number of image pairs\n",
    "        # These images are then removed from the original set so that they are not added again in the next batch.\n",
    "             \n",
    "        k = 0\n",
    "        pairs=[np.zeros((batch_size, img_h, img_w, 1)) for i in range(2)]\n",
    "        Y=np.zeros((batch_size,))\n",
    "        for ix, pair in enumerate(all_pairs):\n",
    "            img1 = cv2.imread(pair[0], 0)\n",
    "            img2 = cv2.imread(pair[1], 0)\n",
    "            img1 = cv2.resize(img1, (img_w, img_h))\n",
    "            img2 = cv2.resize(img2, (img_w, img_h))\n",
    "            img1 = np.array(img1, dtype = np.float64)\n",
    "            img2 = np.array(img2, dtype = np.float64)\n",
    "\n",
    "            '''Converting white patches to 255 pixel and black patches to 0 pixel for increasing accuracy'''\n",
    "            for i in range(img1.shape[0]):\n",
    "              for j in range(img1.shape[1]):\n",
    "                pixel = img1.item(i, j)\n",
    "                if pixel > 200:\n",
    "                  img1[i][j]=255\n",
    "                else:\n",
    "                  img1[i][j]=0\n",
    "            for i in range(img2.shape[0]):\n",
    "              for j in range(img2.shape[1]):\n",
    "                pixel = img2.item(i, j)\n",
    "                if pixel > 200:\n",
    "                  img2[i][j]=255\n",
    "                else:\n",
    "                  img2[i][j]=0\n",
    "            img1 /= 255\n",
    "            img2 /= 255\n",
    "            img1 = img1[..., np.newaxis]\n",
    "            img2 = img2[..., np.newaxis]\n",
    "            pairs[0][k, :, :, :] = img1\n",
    "            pairs[1][k, :, :, :] = img2\n",
    "            Y[k] = all_labels[ix]\n",
    "            k += 1\n",
    "            if k == batch_size:\n",
    "                yield pairs, Y\n",
    "                k = 0\n",
    "                pairs=[np.zeros((batch_size, img_h, img_w, 1)) for i in range(2)]\n",
    "                targets=np.zeros((batch_size,))"
   ]
  },
  {
   "cell_type": "code",
   "execution_count": 10,
   "id": "fda11a38",
   "metadata": {},
   "outputs": [],
   "source": [
    "def euclidean_distance(vects):\n",
    "    '''Compute Euclidean Distance between two vectors'''\n",
    "    x, y = vects\n",
    "    return K.sqrt(K.sum(K.square(x - y), axis=1, keepdims=True))"
   ]
  },
  {
   "cell_type": "code",
   "execution_count": 11,
   "id": "0a94ece2",
   "metadata": {},
   "outputs": [],
   "source": [
    "def eucl_dist_output_shape(shapes):\n",
    "    shape1, shape2 = shapes\n",
    "    return (shape1[0], 1)"
   ]
  },
  {
   "cell_type": "code",
   "execution_count": 12,
   "id": "8df5f0fb",
   "metadata": {},
   "outputs": [],
   "source": [
    "#function tries to calculate the loss for genuine-genuine pairs by computing the euclidean distance \n",
    "#and the genuine-forged pairs by calculating the distance of the euclidean distance of the forged signature from the marginal boundary of the genuine signatures\n",
    "def contrastive_loss(y_true, y_pred):\n",
    "    margin = 1\n",
    "    return K.mean(y_true * K.square(y_pred) + (1 - y_true) * K.square(K.maximum(margin - y_pred, 0)))"
   ]
  },
  {
   "cell_type": "code",
   "execution_count": 13,
   "id": "ebbf7eb2",
   "metadata": {},
   "outputs": [],
   "source": [
    "def create_base_network_signet(input_shape):\n",
    "    '''Base Siamese Network'''\n",
    "    \n",
    "    seq = Sequential()\n",
    "    seq.add(Conv2D(96, kernel_size=(11, 11), activation='relu', name='conv1_1', strides=4, input_shape= input_shape))\n",
    "    seq.add(BatchNormalization(epsilon=1e-06, axis=1, momentum=0.9))\n",
    "    seq.add(MaxPooling2D((3,3), strides=(2, 2)))    \n",
    "    seq.add(ZeroPadding2D((2, 2)))\n",
    "    \n",
    "    seq.add(Conv2D(256, kernel_size=(5, 5), activation='relu', name='conv2_1', strides=1))\n",
    "    seq.add(BatchNormalization(epsilon=1e-06, axis=1, momentum=0.9))\n",
    "    seq.add(MaxPooling2D((3,3), strides=(2, 2)))\n",
    "    seq.add(Dropout(0.3))# added extra\n",
    "    seq.add(ZeroPadding2D((1, 1)))\n",
    "    \n",
    "    seq.add(Conv2D(384, kernel_size=(3, 3), activation='relu', name='conv3_1', strides=1))\n",
    "    seq.add(ZeroPadding2D((1, 1)))\n",
    "    \n",
    "    seq.add(Conv2D(256, kernel_size=(3, 3), activation='relu', name='conv3_2', strides=1))    \n",
    "    seq.add(MaxPooling2D((3,3), strides=(2, 2)))\n",
    "    seq.add(Dropout(0.3))# added extra\n",
    "    seq.add(Flatten(name='flatten'))\n",
    "    seq.add(Dense(1024, activation='relu'))\n",
    "    seq.add(Dropout(0.5))\n",
    "    \n",
    "    seq.add(Dense(128, activation='relu')) # softmax changed to relu\n",
    "    \n",
    "    return seq"
   ]
  },
  {
   "cell_type": "code",
   "execution_count": 14,
   "id": "f2533521",
   "metadata": {},
   "outputs": [],
   "source": [
    "#Image dimensions\n",
    "input_shape=(img_h, img_w, 1)"
   ]
  },
  {
   "cell_type": "code",
   "execution_count": 26,
   "id": "5ec1db13",
   "metadata": {},
   "outputs": [],
   "source": [
    "\n",
    "# network definition\n",
    "base_network = create_base_network_signet(input_shape)\n",
    "\n",
    "input_a = Input(shape=(input_shape))\n",
    "input_b = Input(shape=(input_shape))\n",
    "\n",
    "# because we re-use the same instance `base_network`,\n",
    "# the weights of the network\n",
    "# will be shared across the two branches\n",
    "processed_a = base_network(input_a)\n",
    "processed_b = base_network(input_b)\n",
    "\n",
    "# Compute the Euclidean distance between the two vectors in the latent space\n",
    "distance = Lambda(euclidean_distance, output_shape=eucl_dist_output_shape)([processed_a, processed_b])\n",
    "\n",
    "model = Model([input_a, input_b], distance)"
   ]
  },
  {
   "cell_type": "code",
   "execution_count": 27,
   "id": "53ece2ea",
   "metadata": {},
   "outputs": [
    {
     "data": {
      "text/plain": [
       "(24192, 4032, 3456)"
      ]
     },
     "execution_count": 27,
     "metadata": {},
     "output_type": "execute_result"
    }
   ],
   "source": [
    "batch_sz = 128\n",
    "num_train_samples = 276*42 + 300*42\n",
    "num_val_samples =  276*7 + 300*7 \n",
    "num_test_samples =276*6 + 300*6 \n",
    "num_train_samples, num_val_samples, num_test_samples"
   ]
  },
  {
   "cell_type": "code",
   "execution_count": 29,
   "id": "e79fa6a2",
   "metadata": {},
   "outputs": [],
   "source": [
    "# compile model using RMSProp Optimizer and Contrastive loss function defined above\n",
    "rms = RMSprop(learning_rate=1e-4, rho=0.9, epsilon=1e-08)\n",
    "model.compile(loss=contrastive_loss, optimizer=rms)"
   ]
  },
  {
   "cell_type": "code",
   "execution_count": 30,
   "id": "3f8c3c62",
   "metadata": {},
   "outputs": [],
   "source": [
    "# Using Keras Callbacks, save the model after every epoch\n",
    "# Reduce the learning rate by a factor of 0.1 if the validation loss does not improve for 5 epochs\n",
    "# Stop the training using early stopping if the validation loss does not improve for 12 epochs\n",
    "callbacks = [\n",
    "    EarlyStopping(patience=12, verbose=1),\n",
    "    ReduceLROnPlateau(factor=0.1, patience=5, min_lr=0.000001, verbose=1),\n",
    "    ModelCheckpoint('/content/drive/MyDrive/signatures/signet-bhsig262-{epoch:03d}.h5', verbose=1, save_weights_only=True)\n",
    "]"
   ]
  },
  {
   "cell_type": "code",
   "execution_count": 35,
   "id": "ab0049db",
   "metadata": {},
   "outputs": [
    {
     "name": "stderr",
     "output_type": "stream",
     "text": [
      "C:\\Users\\sveda\\AppData\\Local\\Temp\\ipykernel_24996\\2891634560.py:1: UserWarning: `Model.fit_generator` is deprecated and will be removed in a future version. Please use `Model.fit`, which supports generators.\n",
      "  results = model.fit_generator(generate_batch(orig_train, forg_train, batch_sz),\n"
     ]
    },
    {
     "name": "stdout",
     "output_type": "stream",
     "text": [
      "Epoch 1/100\n",
      "189/189 [==============================] - ETA: 0s - loss: 1.6919  \n",
      "Epoch 1: saving model to /content/drive/MyDrive/signatures\\signet-bhsig262-001.h5\n"
     ]
    },
    {
     "ename": "FileNotFoundError",
     "evalue": "[Errno 2] Unable to create file (unable to open file: name = '/content/drive/MyDrive/signatures\\signet-bhsig262-001.h5', errno = 2, error message = 'No such file or directory', flags = 13, o_flags = 302)",
     "output_type": "error",
     "traceback": [
      "\u001b[1;31m---------------------------------------------------------------------------\u001b[0m",
      "\u001b[1;31mFileNotFoundError\u001b[0m                         Traceback (most recent call last)",
      "Input \u001b[1;32mIn [35]\u001b[0m, in \u001b[0;36m<cell line: 1>\u001b[1;34m()\u001b[0m\n\u001b[1;32m----> 1\u001b[0m results \u001b[38;5;241m=\u001b[39m \u001b[43mmodel\u001b[49m\u001b[38;5;241;43m.\u001b[39;49m\u001b[43mfit_generator\u001b[49m\u001b[43m(\u001b[49m\u001b[43mgenerate_batch\u001b[49m\u001b[43m(\u001b[49m\u001b[43morig_train\u001b[49m\u001b[43m,\u001b[49m\u001b[43m \u001b[49m\u001b[43mforg_train\u001b[49m\u001b[43m,\u001b[49m\u001b[43m \u001b[49m\u001b[43mbatch_sz\u001b[49m\u001b[43m)\u001b[49m\u001b[43m,\u001b[49m\n\u001b[0;32m      2\u001b[0m \u001b[43m                              \u001b[49m\u001b[43msteps_per_epoch\u001b[49m\u001b[43m \u001b[49m\u001b[38;5;241;43m=\u001b[39;49m\u001b[43m \u001b[49m\u001b[43mnum_train_samples\u001b[49m\u001b[38;5;241;43m/\u001b[39;49m\u001b[38;5;241;43m/\u001b[39;49m\u001b[43mbatch_sz\u001b[49m\u001b[43m,\u001b[49m\n\u001b[0;32m      3\u001b[0m \u001b[43m                              \u001b[49m\u001b[43mepochs\u001b[49m\u001b[43m \u001b[49m\u001b[38;5;241;43m=\u001b[39;49m\u001b[43m \u001b[49m\u001b[38;5;241;43m100\u001b[39;49m\u001b[43m,\u001b[49m\n\u001b[0;32m      4\u001b[0m \u001b[43m                              \u001b[49m\u001b[43mvalidation_data\u001b[49m\u001b[43m \u001b[49m\u001b[38;5;241;43m=\u001b[39;49m\u001b[43m \u001b[49m\u001b[43mgenerate_batch\u001b[49m\u001b[43m(\u001b[49m\u001b[43morig_val\u001b[49m\u001b[43m,\u001b[49m\u001b[43m \u001b[49m\u001b[43mforg_val\u001b[49m\u001b[43m,\u001b[49m\u001b[43m \u001b[49m\u001b[43mbatch_sz\u001b[49m\u001b[43m)\u001b[49m\u001b[43m,\u001b[49m\n\u001b[0;32m      5\u001b[0m \u001b[43m                              \u001b[49m\u001b[43mvalidation_steps\u001b[49m\u001b[43m \u001b[49m\u001b[38;5;241;43m=\u001b[39;49m\u001b[43m \u001b[49m\u001b[43mnum_val_samples\u001b[49m\u001b[38;5;241;43m/\u001b[39;49m\u001b[38;5;241;43m/\u001b[39;49m\u001b[43mbatch_sz\u001b[49m\u001b[43m,\u001b[49m\n\u001b[0;32m      6\u001b[0m \u001b[43m                              \u001b[49m\u001b[43mcallbacks\u001b[49m\u001b[43m \u001b[49m\u001b[38;5;241;43m=\u001b[39;49m\u001b[43m \u001b[49m\u001b[43mcallbacks\u001b[49m\u001b[43m)\u001b[49m\n",
      "File \u001b[1;32m~\\anaconda3\\lib\\site-packages\\keras\\engine\\training.py:2260\u001b[0m, in \u001b[0;36mModel.fit_generator\u001b[1;34m(self, generator, steps_per_epoch, epochs, verbose, callbacks, validation_data, validation_steps, validation_freq, class_weight, max_queue_size, workers, use_multiprocessing, shuffle, initial_epoch)\u001b[0m\n\u001b[0;32m   2249\u001b[0m \u001b[38;5;124;03m\"\"\"Fits the model on data yielded batch-by-batch by a Python generator.\u001b[39;00m\n\u001b[0;32m   2250\u001b[0m \n\u001b[0;32m   2251\u001b[0m \u001b[38;5;124;03mDEPRECATED:\u001b[39;00m\n\u001b[0;32m   2252\u001b[0m \u001b[38;5;124;03m  `Model.fit` now supports generators, so there is no longer any need to use\u001b[39;00m\n\u001b[0;32m   2253\u001b[0m \u001b[38;5;124;03m  this endpoint.\u001b[39;00m\n\u001b[0;32m   2254\u001b[0m \u001b[38;5;124;03m\"\"\"\u001b[39;00m\n\u001b[0;32m   2255\u001b[0m warnings\u001b[38;5;241m.\u001b[39mwarn(\n\u001b[0;32m   2256\u001b[0m     \u001b[38;5;124m'\u001b[39m\u001b[38;5;124m`Model.fit_generator` is deprecated and \u001b[39m\u001b[38;5;124m'\u001b[39m\n\u001b[0;32m   2257\u001b[0m     \u001b[38;5;124m'\u001b[39m\u001b[38;5;124mwill be removed in a future version. \u001b[39m\u001b[38;5;124m'\u001b[39m\n\u001b[0;32m   2258\u001b[0m     \u001b[38;5;124m'\u001b[39m\u001b[38;5;124mPlease use `Model.fit`, which supports generators.\u001b[39m\u001b[38;5;124m'\u001b[39m,\n\u001b[0;32m   2259\u001b[0m     stacklevel\u001b[38;5;241m=\u001b[39m\u001b[38;5;241m2\u001b[39m)\n\u001b[1;32m-> 2260\u001b[0m \u001b[38;5;28;01mreturn\u001b[39;00m \u001b[38;5;28;43mself\u001b[39;49m\u001b[38;5;241;43m.\u001b[39;49m\u001b[43mfit\u001b[49m\u001b[43m(\u001b[49m\n\u001b[0;32m   2261\u001b[0m \u001b[43m    \u001b[49m\u001b[43mgenerator\u001b[49m\u001b[43m,\u001b[49m\n\u001b[0;32m   2262\u001b[0m \u001b[43m    \u001b[49m\u001b[43msteps_per_epoch\u001b[49m\u001b[38;5;241;43m=\u001b[39;49m\u001b[43msteps_per_epoch\u001b[49m\u001b[43m,\u001b[49m\n\u001b[0;32m   2263\u001b[0m \u001b[43m    \u001b[49m\u001b[43mepochs\u001b[49m\u001b[38;5;241;43m=\u001b[39;49m\u001b[43mepochs\u001b[49m\u001b[43m,\u001b[49m\n\u001b[0;32m   2264\u001b[0m \u001b[43m    \u001b[49m\u001b[43mverbose\u001b[49m\u001b[38;5;241;43m=\u001b[39;49m\u001b[43mverbose\u001b[49m\u001b[43m,\u001b[49m\n\u001b[0;32m   2265\u001b[0m \u001b[43m    \u001b[49m\u001b[43mcallbacks\u001b[49m\u001b[38;5;241;43m=\u001b[39;49m\u001b[43mcallbacks\u001b[49m\u001b[43m,\u001b[49m\n\u001b[0;32m   2266\u001b[0m \u001b[43m    \u001b[49m\u001b[43mvalidation_data\u001b[49m\u001b[38;5;241;43m=\u001b[39;49m\u001b[43mvalidation_data\u001b[49m\u001b[43m,\u001b[49m\n\u001b[0;32m   2267\u001b[0m \u001b[43m    \u001b[49m\u001b[43mvalidation_steps\u001b[49m\u001b[38;5;241;43m=\u001b[39;49m\u001b[43mvalidation_steps\u001b[49m\u001b[43m,\u001b[49m\n\u001b[0;32m   2268\u001b[0m \u001b[43m    \u001b[49m\u001b[43mvalidation_freq\u001b[49m\u001b[38;5;241;43m=\u001b[39;49m\u001b[43mvalidation_freq\u001b[49m\u001b[43m,\u001b[49m\n\u001b[0;32m   2269\u001b[0m \u001b[43m    \u001b[49m\u001b[43mclass_weight\u001b[49m\u001b[38;5;241;43m=\u001b[39;49m\u001b[43mclass_weight\u001b[49m\u001b[43m,\u001b[49m\n\u001b[0;32m   2270\u001b[0m \u001b[43m    \u001b[49m\u001b[43mmax_queue_size\u001b[49m\u001b[38;5;241;43m=\u001b[39;49m\u001b[43mmax_queue_size\u001b[49m\u001b[43m,\u001b[49m\n\u001b[0;32m   2271\u001b[0m \u001b[43m    \u001b[49m\u001b[43mworkers\u001b[49m\u001b[38;5;241;43m=\u001b[39;49m\u001b[43mworkers\u001b[49m\u001b[43m,\u001b[49m\n\u001b[0;32m   2272\u001b[0m \u001b[43m    \u001b[49m\u001b[43muse_multiprocessing\u001b[49m\u001b[38;5;241;43m=\u001b[39;49m\u001b[43muse_multiprocessing\u001b[49m\u001b[43m,\u001b[49m\n\u001b[0;32m   2273\u001b[0m \u001b[43m    \u001b[49m\u001b[43mshuffle\u001b[49m\u001b[38;5;241;43m=\u001b[39;49m\u001b[43mshuffle\u001b[49m\u001b[43m,\u001b[49m\n\u001b[0;32m   2274\u001b[0m \u001b[43m    \u001b[49m\u001b[43minitial_epoch\u001b[49m\u001b[38;5;241;43m=\u001b[39;49m\u001b[43minitial_epoch\u001b[49m\u001b[43m)\u001b[49m\n",
      "File \u001b[1;32m~\\anaconda3\\lib\\site-packages\\keras\\utils\\traceback_utils.py:67\u001b[0m, in \u001b[0;36mfilter_traceback.<locals>.error_handler\u001b[1;34m(*args, **kwargs)\u001b[0m\n\u001b[0;32m     65\u001b[0m \u001b[38;5;28;01mexcept\u001b[39;00m \u001b[38;5;167;01mException\u001b[39;00m \u001b[38;5;28;01mas\u001b[39;00m e:  \u001b[38;5;66;03m# pylint: disable=broad-except\u001b[39;00m\n\u001b[0;32m     66\u001b[0m   filtered_tb \u001b[38;5;241m=\u001b[39m _process_traceback_frames(e\u001b[38;5;241m.\u001b[39m__traceback__)\n\u001b[1;32m---> 67\u001b[0m   \u001b[38;5;28;01mraise\u001b[39;00m e\u001b[38;5;241m.\u001b[39mwith_traceback(filtered_tb) \u001b[38;5;28;01mfrom\u001b[39;00m \u001b[38;5;28mNone\u001b[39m\n\u001b[0;32m     68\u001b[0m \u001b[38;5;28;01mfinally\u001b[39;00m:\n\u001b[0;32m     69\u001b[0m   \u001b[38;5;28;01mdel\u001b[39;00m filtered_tb\n",
      "File \u001b[1;32m~\\anaconda3\\lib\\site-packages\\h5py\\_hl\\files.py:507\u001b[0m, in \u001b[0;36mFile.__init__\u001b[1;34m(self, name, mode, driver, libver, userblock_size, swmr, rdcc_nslots, rdcc_nbytes, rdcc_w0, track_order, fs_strategy, fs_persist, fs_threshold, fs_page_size, page_buf_size, min_meta_keep, min_raw_keep, locking, **kwds)\u001b[0m\n\u001b[0;32m    502\u001b[0m     fapl \u001b[38;5;241m=\u001b[39m make_fapl(driver, libver, rdcc_nslots, rdcc_nbytes, rdcc_w0,\n\u001b[0;32m    503\u001b[0m                      locking, page_buf_size, min_meta_keep, min_raw_keep, \u001b[38;5;241m*\u001b[39m\u001b[38;5;241m*\u001b[39mkwds)\n\u001b[0;32m    504\u001b[0m     fcpl \u001b[38;5;241m=\u001b[39m make_fcpl(track_order\u001b[38;5;241m=\u001b[39mtrack_order, fs_strategy\u001b[38;5;241m=\u001b[39mfs_strategy,\n\u001b[0;32m    505\u001b[0m                      fs_persist\u001b[38;5;241m=\u001b[39mfs_persist, fs_threshold\u001b[38;5;241m=\u001b[39mfs_threshold,\n\u001b[0;32m    506\u001b[0m                      fs_page_size\u001b[38;5;241m=\u001b[39mfs_page_size)\n\u001b[1;32m--> 507\u001b[0m     fid \u001b[38;5;241m=\u001b[39m make_fid(name, mode, userblock_size, fapl, fcpl, swmr\u001b[38;5;241m=\u001b[39mswmr)\n\u001b[0;32m    509\u001b[0m \u001b[38;5;28;01mif\u001b[39;00m \u001b[38;5;28misinstance\u001b[39m(libver, \u001b[38;5;28mtuple\u001b[39m):\n\u001b[0;32m    510\u001b[0m     \u001b[38;5;28mself\u001b[39m\u001b[38;5;241m.\u001b[39m_libver \u001b[38;5;241m=\u001b[39m libver\n",
      "File \u001b[1;32m~\\anaconda3\\lib\\site-packages\\h5py\\_hl\\files.py:226\u001b[0m, in \u001b[0;36mmake_fid\u001b[1;34m(name, mode, userblock_size, fapl, fcpl, swmr)\u001b[0m\n\u001b[0;32m    224\u001b[0m     fid \u001b[38;5;241m=\u001b[39m h5f\u001b[38;5;241m.\u001b[39mcreate(name, h5f\u001b[38;5;241m.\u001b[39mACC_EXCL, fapl\u001b[38;5;241m=\u001b[39mfapl, fcpl\u001b[38;5;241m=\u001b[39mfcpl)\n\u001b[0;32m    225\u001b[0m \u001b[38;5;28;01melif\u001b[39;00m mode \u001b[38;5;241m==\u001b[39m \u001b[38;5;124m'\u001b[39m\u001b[38;5;124mw\u001b[39m\u001b[38;5;124m'\u001b[39m:\n\u001b[1;32m--> 226\u001b[0m     fid \u001b[38;5;241m=\u001b[39m \u001b[43mh5f\u001b[49m\u001b[38;5;241;43m.\u001b[39;49m\u001b[43mcreate\u001b[49m\u001b[43m(\u001b[49m\u001b[43mname\u001b[49m\u001b[43m,\u001b[49m\u001b[43m \u001b[49m\u001b[43mh5f\u001b[49m\u001b[38;5;241;43m.\u001b[39;49m\u001b[43mACC_TRUNC\u001b[49m\u001b[43m,\u001b[49m\u001b[43m \u001b[49m\u001b[43mfapl\u001b[49m\u001b[38;5;241;43m=\u001b[39;49m\u001b[43mfapl\u001b[49m\u001b[43m,\u001b[49m\u001b[43m \u001b[49m\u001b[43mfcpl\u001b[49m\u001b[38;5;241;43m=\u001b[39;49m\u001b[43mfcpl\u001b[49m\u001b[43m)\u001b[49m\n\u001b[0;32m    227\u001b[0m \u001b[38;5;28;01melif\u001b[39;00m mode \u001b[38;5;241m==\u001b[39m \u001b[38;5;124m'\u001b[39m\u001b[38;5;124ma\u001b[39m\u001b[38;5;124m'\u001b[39m:\n\u001b[0;32m    228\u001b[0m     \u001b[38;5;66;03m# Open in append mode (read/write).\u001b[39;00m\n\u001b[0;32m    229\u001b[0m     \u001b[38;5;66;03m# If that fails, create a new file only if it won't clobber an\u001b[39;00m\n\u001b[0;32m    230\u001b[0m     \u001b[38;5;66;03m# existing one (ACC_EXCL)\u001b[39;00m\n\u001b[0;32m    231\u001b[0m     \u001b[38;5;28;01mtry\u001b[39;00m:\n",
      "File \u001b[1;32mh5py\\_objects.pyx:54\u001b[0m, in \u001b[0;36mh5py._objects.with_phil.wrapper\u001b[1;34m()\u001b[0m\n",
      "File \u001b[1;32mh5py\\_objects.pyx:55\u001b[0m, in \u001b[0;36mh5py._objects.with_phil.wrapper\u001b[1;34m()\u001b[0m\n",
      "File \u001b[1;32mh5py\\h5f.pyx:126\u001b[0m, in \u001b[0;36mh5py.h5f.create\u001b[1;34m()\u001b[0m\n",
      "\u001b[1;31mFileNotFoundError\u001b[0m: [Errno 2] Unable to create file (unable to open file: name = '/content/drive/MyDrive/signatures\\signet-bhsig262-001.h5', errno = 2, error message = 'No such file or directory', flags = 13, o_flags = 302)"
     ]
    }
   ],
   "source": [
    "results = model.fit_generator(generate_batch(orig_train, forg_train, batch_sz),\n",
    "                              steps_per_epoch = num_train_samples//batch_sz,\n",
    "                              epochs = 100,\n",
    "                              validation_data = generate_batch(orig_val, forg_val, batch_sz),\n",
    "                              validation_steps = num_val_samples//batch_sz,\n",
    "                              callbacks = callbacks)"
   ]
  },
  {
   "cell_type": "code",
   "execution_count": 33,
   "id": "a10e1d17",
   "metadata": {},
   "outputs": [
    {
     "name": "stdout",
     "output_type": "stream",
     "text": [
      "Collecting opencv-python\n",
      "  Downloading opencv_python-4.6.0.66-cp36-abi3-win_amd64.whl (35.6 MB)\n",
      "Requirement already satisfied: numpy>=1.19.3 in c:\\users\\sveda\\anaconda3\\lib\\site-packages (from opencv-python) (1.21.5)\n",
      "Installing collected packages: opencv-python\n",
      "Successfully installed opencv-python-4.6.0.66\n"
     ]
    }
   ],
   "source": [
    "!pip3 install opencv-python"
   ]
  },
  {
   "cell_type": "code",
   "execution_count": null,
   "id": "95c6e85f",
   "metadata": {},
   "outputs": [],
   "source": []
  }
 ],
 "metadata": {
  "kernelspec": {
   "display_name": "Python 3 (ipykernel)",
   "language": "python",
   "name": "python3"
  },
  "language_info": {
   "codemirror_mode": {
    "name": "ipython",
    "version": 3
   },
   "file_extension": ".py",
   "mimetype": "text/x-python",
   "name": "python",
   "nbconvert_exporter": "python",
   "pygments_lexer": "ipython3",
   "version": "3.9.12"
  }
 },
 "nbformat": 4,
 "nbformat_minor": 5
}
